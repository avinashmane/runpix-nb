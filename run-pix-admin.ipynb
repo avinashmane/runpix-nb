{
 "cells": [
  {
   "cell_type": "markdown",
   "metadata": {},
   "source": [
    "Folder for certificate and images https://drive.google.com/drive/u/2/folders/1vX0fL_c-LLaAeCNnJmUEzQxujDSZlN_V"
   ]
  },
  {
   "cell_type": "code",
   "execution_count": 24,
   "metadata": {},
   "outputs": [],
   "source": [
    "# from datetime import date\n",
    "# import pandas as pd\n",
    "import importlib\n",
    "\n",
    "import sys,os\n",
    "sys.path.insert(0,\"..\")\n",
    "os.environ['GOOGLE_SERVICE_CREDENTIALS']=\"c:/i/auth/run-pix-092258e3cb1b.json\""
   ]
  },
  {
   "cell_type": "code",
   "execution_count": 25,
   "metadata": {},
   "outputs": [],
   "source": [
    "import src.gslide_template as gslide_template \n"
   ]
  },
  {
   "cell_type": "code",
   "execution_count": 26,
   "metadata": {},
   "outputs": [],
   "source": [
    "def testDocument():\n",
    "    \"\"\"\n",
    "    test\n",
    "    \"\"\"\n",
    "    DrvDocument.getList()"
   ]
  },
  {
   "cell_type": "code",
   "execution_count": 58,
   "metadata": {},
   "outputs": [],
   "source": [
    "import yaml,json\n",
    "templates=yaml.safe_load(\"\"\"\n",
    "run_dist: 1Ll9huU9ezInrmqGNP7HrG77io-Za5yYLQGd3YQLCo_0\n",
    "mychoice: 1XLmkqW1hW5FfZL_7cjDbL_Vj3UFFLNI15WjSjqNsLVc\n",
    "old_template: 15v70Kgys59jNZbHI_-NgxkQtN3NJLpLTQ2_Yv4xrKo0\n",
    "\"\"\")\n",
    "\n",
    "\n",
    "importlib.reload(gslide_template)\n",
    "gapi=gslide_template.gapi\n",
    "with open('/mnt/c/i/auth/run-pix-092258e3cb1b.json',\"r\") as f:\n",
    "    gapi.set_cred(json.loads(f.read()))\n",
    "DrvDocument=gslide_template.DrvDocument\n",
    "Template =gslide_template.Template"
   ]
  },
  {
   "cell_type": "code",
   "execution_count": 59,
   "metadata": {},
   "outputs": [],
   "source": [
    "\n",
    "t=Template(templates['mychoice'])"
   ]
  },
  {
   "cell_type": "code",
   "execution_count": 60,
   "metadata": {},
   "outputs": [],
   "source": [
    "slide=t.getSlides()[0]"
   ]
  },
  {
   "cell_type": "code",
   "execution_count": 61,
   "metadata": {},
   "outputs": [
    {
     "name": "stdout",
     "output_type": "stream",
     "text": [
      ">> {'shapeType': 'RECTANGLE', 'shapeProperties': {'shapeBackgroundFill': {'solidFill': {'color': {'rgbColor': {'red': 0.11764706, 'green': 0.11764706, 'blue': 0.11764706}}, 'alpha': 0.4751}}, 'outline': {'outlineFill': {'solidFill': {'color': {'themeColor': 'DARK2'}, 'alpha': 1}}, 'weight': {'magnitude': 9525, 'unit': 'EMU'}, 'dashStyle': 'SOLID'}, 'shadow': {'type': 'OUTER', 'transform': {'scaleX': 1, 'scaleY': 1, 'unit': 'EMU'}, 'alignment': 'BOTTOM_LEFT', 'blurRadius': {'unit': 'EMU'}, 'color': {'rgbColor': {}}, 'alpha': 1, 'rotateWithShape': False, 'propertyState': 'NOT_RENDERED'}, 'contentAlignment': 'MIDDLE', 'autofit': {'autofitType': 'NONE', 'fontScale': 1}}}\n"
     ]
    }
   ],
   "source": [
    "for el in slide.get(\"pageElements\"):\n",
    "            if ('shape' in el):\n",
    "                shp=el['shape']\n",
    "\n",
    "                if 'text' in shp and 'textElements' in shp['text']:\n",
    "                    for t in shp['text']['textElements']:\n",
    "                        if 'textRun' in t:\n",
    "                            # placeholders=self.substitutePat.findall(t['textRun']['content'])\n",
    "                            # #if ~len(placeholders):print(el['objectId'],shp['shapeType'],t['textRun']['content'])\n",
    "                            # ret+=placeholders\n",
    "                            pass\n",
    "                        else:\n",
    "                            #print(el['objectId'],shp['shapeType'],t)\n",
    "                            pass\n",
    "                else:\n",
    "                    print(\">>\",shp)"
   ]
  },
  {
   "cell_type": "code",
   "execution_count": 53,
   "metadata": {},
   "outputs": [
    {
     "ename": "AttributeError",
     "evalue": "'dict' object has no attribute 'render'",
     "output_type": "error",
     "traceback": [
      "\u001b[0;31m---------------------------------------------------------------------------\u001b[0m",
      "\u001b[0;31mAttributeError\u001b[0m                            Traceback (most recent call last)",
      "Cell \u001b[0;32mIn[53], line 1\u001b[0m\n\u001b[0;32m----> 1\u001b[0m cert\u001b[38;5;241m=\u001b[39m\u001b[43mt\u001b[49m\u001b[38;5;241;43m.\u001b[39;49m\u001b[43mrender\u001b[49m({\u001b[38;5;124m\"\u001b[39m\u001b[38;5;124mdate\u001b[39m\u001b[38;5;124m\"\u001b[39m:\u001b[38;5;124m'\u001b[39m\u001b[38;5;124m2024-02-01\u001b[39m\u001b[38;5;124m'\u001b[39m,\n\u001b[1;32m      2\u001b[0m                         \u001b[38;5;124m'\u001b[39m\u001b[38;5;124mname\u001b[39m\u001b[38;5;124m'\u001b[39m:\u001b[38;5;124m'\u001b[39m\u001b[38;5;124mAvinash Mane\u001b[39m\u001b[38;5;124m'\u001b[39m,\n\u001b[1;32m      3\u001b[0m                         \u001b[38;5;124m'\u001b[39m\u001b[38;5;124mmilestone\u001b[39m\u001b[38;5;124m'\u001b[39m:\u001b[38;5;124m'\u001b[39m\u001b[38;5;124m100 days\u001b[39m\u001b[38;5;124m'\u001b[39m,\n\u001b[1;32m      4\u001b[0m                         \u001b[38;5;124m'\u001b[39m\u001b[38;5;124mlogo_img_url\u001b[39m\u001b[38;5;124m'\u001b[39m:\u001b[38;5;124m'\u001b[39m\u001b[38;5;124mhttps://upload.wikimedia.org/wikipedia/commons/f/f5/Circle_file.487.png\u001b[39m\u001b[38;5;124m'\u001b[39m})\n",
      "\u001b[0;31mAttributeError\u001b[0m: 'dict' object has no attribute 'render'"
     ]
    }
   ],
   "source": [
    "cert=t.render({\"date\":'2024-02-01',\n",
    "                        'name':'Avinash Mane',\n",
    "                        'milestone':'100 days',\n",
    "                        'logo_img_url':'https://upload.wikimedia.org/wikipedia/commons/f/f5/Circle_file.487.png'})\n"
   ]
  },
  {
   "cell_type": "code",
   "execution_count": 78,
   "metadata": {},
   "outputs": [
    {
     "data": {
      "text/plain": [
       "{'width': 1600,\n",
       " 'height': 2262,\n",
       " 'contentUrl': 'https://lh7-us.googleusercontent.com/ykzUd8O4o6GPzKr-TFYmiyaxOIiP-ZCLAjh4j-6-w8UQXIAMc37vzt2iUn0SoRTj_eSFPrdxjwGRt7wsumgVTFrN5Kx3uI372cuNhIkym-KfFrisfDwxhXE3IfDr2PyAgRNfhjL65_gT6yVJFqJ7vtVPukY-6u0MgK9sVKQ1YJC-Ulic6HyCsBi2LVeBgTZowuzjGzdM5uCtifCXZxocTOjgG9Kh8Ln9jvv-xcCD7lvJ19P3mdlGQq4=s1600'}"
      ]
     },
     "execution_count": 78,
     "metadata": {},
     "output_type": "execute_result"
    }
   ],
   "source": [
    "cert.getThumbnail()"
   ]
  },
  {
   "cell_type": "code",
   "execution_count": 68,
   "metadata": {},
   "outputs": [],
   "source": [
    "x=gapi.drive_service.files().export(fileId='10GR_AFlqYFql7pru3c6zOUg7F0eBMk-qMbPo94Qzf84', \n",
    "                            mimeType='application/pdf').execute()"
   ]
  },
  {
   "cell_type": "code",
   "execution_count": 76,
   "metadata": {},
   "outputs": [],
   "source": [
    "with open(\"/mnt/c/temp/a.pdf\",\"wb\") as f:\n",
    "    f.write(cert.export())"
   ]
  },
  {
   "cell_type": "code",
   "execution_count": null,
   "metadata": {},
   "outputs": [],
   "source": [
    "# this get decent thumbnail\n",
    "gapi.slides_service.presentations().pages().getThumbnail(\n",
    "    presentationId=presentation_id,\n",
    "    pageObjectId='gc6f9fe735_0_0',\n",
    "    #thumbnailProperties={mimeType:'image/jpeg'}\n",
    ").execute()"
   ]
  },
  {
   "cell_type": "code",
   "execution_count": null,
   "metadata": {},
   "outputs": [],
   "source": [
    "\n",
    "slides_service=gapi.slides_service\n",
    "self=t\n",
    "    \n",
    "def getReplacement(placeholder,value,matchCase=True):\n",
    "    if '_img_url' in placeholder:\n",
    "        return {\n",
    "                \"replaceAllShapesWithImage\"  : {\n",
    "                    \"containsText\": {\n",
    "                        \"text\": \"{\"+placeholder+\"}\",\n",
    "                        \"matchCase\": matchCase,\n",
    "                    },\n",
    "                    \"imageUrl\": value,\n",
    "                    \"replaceMethod\": \"CENTER_INSIDE\",\n",
    "                }}   \n",
    "    else:\n",
    "        return { \"replaceAllText\"   : {\n",
    "                \"containsText\": {\n",
    "                    \"text\": \"{\"+placeholder+\"}\",\n",
    "                    \"matchCase\": matchCase,\n",
    "                },\n",
    "                \"replaceText\": value,\n",
    "            }\n",
    "        }\n",
    "def getPlaceHolder(slide):\n",
    "        ret=[]\n",
    "        for el in slide.get(\"pageElements\"):\n",
    "            if ('shape' in el):\n",
    "                shp=el['shape']\n",
    "                # print(el['objectId'],shp['shapeType'],shp)\n",
    "                for t in shp['text']['textElements']:\n",
    "                    if 'textRun' in t:\n",
    "                        placeholders=self.substitutePat.findall(t['textRun']['content'])\n",
    "                        ret+=placeholders\n",
    "        return ret\n",
    "           \n",
    "def template_render():\n",
    "    name='profiling test..delete'\n",
    "    values={\"date\":'2024-02-01','name':'Avinash Mane','milestone':'100 days','logo_img_url':'https://upload.wikimedia.org/wikipedia/commons/f/f5/Circle_file.487.png'}\n",
    "\n",
    "    newCopyId=self.copyDocument(self.id, f'{self.name} copy {str(date.today())}')\n",
    "\n",
    "    print(f'copying {self.id} to {newCopyId}')\n",
    "    newDoc=Document(newCopyId)\n",
    "    newDoc.givePermission(\"writer\",\"avinashmane@gmail.com\")\n",
    "    print(newDoc)\n",
    "\n",
    "    slides=self.getSlides(newCopyId)\n",
    "\n",
    "         \n",
    "         \n",
    "    ps =getPlaceHolder( slides[0])\n",
    "\n",
    "    body = {\"requests\": []}\n",
    "    body[\"requests\"]=[getReplacement(param,values[param]) \n",
    "                        for param in ps if param in values]\n",
    "    response = (\n",
    "        gapi.slides_service.presentations()\n",
    "        .batchUpdate(presentationId=newCopyId, body=body)\n",
    "        .execute()\n",
    "    )\n",
    "    \n",
    "    #print(ps,values,self.checkBatchUpdate(response)) \n",
    "\n",
    "# %lprun -f template_render template_render()\n"
   ]
  },
  {
   "cell_type": "code",
   "execution_count": null,
   "metadata": {
    "vscode": {
     "languageId": "javascript"
    }
   },
   "outputs": [],
   "source": [
    "print(t)\n",
    "import api_template\n",
    "import importlib\n",
    "importlib.reload(api_template)\n",
    "slides_service=api_template.gapi.slides_service"
   ]
  },
  {
   "cell_type": "code",
   "execution_count": null,
   "metadata": {
    "vscode": {
     "languageId": "javascript"
    }
   },
   "outputs": [],
   "source": [
    "t2=Templ(templates['run_dist']).dri\n",
    "\n",
    "\n"
   ]
  },
  {
   "cell_type": "code",
   "execution_count": null,
   "metadata": {
    "vscode": {
     "languageId": "javascript"
    }
   },
   "outputs": [],
   "source": []
  },
  {
   "cell_type": "code",
   "execution_count": null,
   "metadata": {
    "vscode": {
     "languageId": "javascript"
    }
   },
   "outputs": [],
   "source": []
  },
  {
   "cell_type": "code",
   "execution_count": null,
   "metadata": {
    "vscode": {
     "languageId": "javascript"
    }
   },
   "outputs": [],
   "source": []
  },
  {
   "cell_type": "code",
   "execution_count": null,
   "metadata": {
    "vscode": {
     "languageId": "javascript"
    }
   },
   "outputs": [],
   "source": [
    "slides=t2.getSlides(templates['run_dist'])"
   ]
  },
  {
   "cell_type": "code",
   "execution_count": null,
   "metadata": {
    "vscode": {
     "languageId": "javascript"
    }
   },
   "outputs": [],
   "source": [
    "\n",
    "for el in slides[0].get(\"pageElements\"):\n",
    "                if  ('shape' in el):\n",
    "                    shp=el['shape']\n",
    "                    print(el['objectId'],shp['shapeType'],shp)\n",
    "                    for t in shp['text']['textElements']:\n",
    "                        if 'textRun' in t:\n",
    "                            placeholders=subPat.findall(t['textRun']['content'])\n",
    "                            print(t['textRun']['content'],placeholders)\n",
    "                else:\n",
    "                    print (el)"
   ]
  },
  {
   "cell_type": "code",
   "execution_count": null,
   "metadata": {
    "vscode": {
     "languageId": "javascript"
    }
   },
   "outputs": [],
   "source": [
    "pd.DataFrame(slides[0].get('pageElements'))['shape'].apply(pd.Series).style\n",
    "\n"
   ]
  },
  {
   "cell_type": "code",
   "execution_count": null,
   "metadata": {
    "vscode": {
     "languageId": "javascript"
    }
   },
   "outputs": [],
   "source": [
    "1sFGM9ajoHcAs2bzahIc7mCrF0w4BDGNqPufquk7YQy8"
   ]
  },
  {
   "cell_type": "code",
   "execution_count": null,
   "metadata": {
    "vscode": {
     "languageId": "javascript"
    }
   },
   "outputs": [],
   "source": [
    "if False:\n",
    "    for _doc in Document.getList()[:0]:\n",
    "        d=Document(_doc['id'])\n",
    "        d.givePermission(\"writer\",\"avinashmane@gmail.com\")\n",
    "        print(d)\n"
   ]
  },
  {
   "cell_type": "code",
   "execution_count": null,
   "metadata": {
    "vscode": {
     "languageId": "javascript"
    }
   },
   "outputs": [],
   "source": [
    "c_docs = Template()\n",
    "doc_id = c_docs.pick_a_template('1ZnI2I_s86Zs833LCFCmvBMCH74ZKrXdvc-3qNII1ORQ')\n"
   ]
  },
  {
   "cell_type": "code",
   "execution_count": null,
   "metadata": {
    "vscode": {
     "languageId": "javascript"
    }
   },
   "outputs": [],
   "source": []
  },
  {
   "cell_type": "code",
   "execution_count": null,
   "metadata": {
    "vscode": {
     "languageId": "javascript"
    }
   },
   "outputs": [],
   "source": [
    "giveAnyoneView(doc_id)\n",
    " #givePermission(doc_id,\"writer\",\"avinashmane@gmail.com\")"
   ]
  },
  {
   "cell_type": "code",
   "execution_count": null,
   "metadata": {
    "vscode": {
     "languageId": "javascript"
    }
   },
   "outputs": [],
   "source": [
    "print(\"https://docs.google.com/document/d/{0}/edit\".format(\"1sprmhPuvPpEKpnJE55__XhKwzyaxn6ayS1cLx1-WU78\"))\n",
    "print())"
   ]
  },
  {
   "cell_type": "code",
   "execution_count": null,
   "metadata": {
    "vscode": {
     "languageId": "javascript"
    }
   },
   "outputs": [],
   "source": [
    "\n",
    "requests = []\n",
    "requests.append(c_docs.replace_a_data('title', 'Coronavirus Disease 2019'))\n"
   ]
  },
  {
   "cell_type": "code",
   "execution_count": null,
   "metadata": {
    "vscode": {
     "languageId": "javascript"
    }
   },
   "outputs": [],
   "source": [
    "\n",
    "today = date.today()\n",
    "requests.append(c_docs.replace_a_data('date', '{0}'.format(today)))\n",
    "c_docs.hwd_batch_update(doc_id, requests)\n"
   ]
  },
  {
   "cell_type": "code",
   "execution_count": null,
   "metadata": {
    "vscode": {
     "languageId": "javascript"
    }
   },
   "outputs": [],
   "source": [
    "\n",
    "starti, endi = c_docs.get_text_range_idx(doc_id, 'Details :')\n",
    "rlt, endi = c_docs.print_main_sections(doc_id, endi)"
   ]
  },
  {
   "cell_type": "code",
   "execution_count": null,
   "metadata": {
    "vscode": {
     "languageId": "javascript"
    }
   },
   "outputs": [],
   "source": [
    "\" Not working\"\n",
    "\"Transfer file\"\n",
    "\n",
    "gapi.drive_service.permissions().create(\n",
    "   fileId=\"19JqsyCwbM4AyOpf_L6vsGx3nLbzf3IYXZA650vgdGVk\",\n",
    "   body={'emailAddress': 'avinashmane@gmail.com',\n",
    "   'type': 'user',\n",
    "   'kind': 'drive#permission',\n",
    "   'role': 'owner'},\n",
    "   transferOwnership =True,\n",
    "   moveToNewOwnersRoot=True).execute()"
   ]
  }
 ],
 "metadata": {
  "kernelspec": {
   "display_name": "Python 3 (ipykernel)",
   "language": "python",
   "name": "python3"
  },
  "language_info": {
   "codemirror_mode": {
    "name": "ipython",
    "version": 3
   },
   "file_extension": ".py",
   "mimetype": "text/x-python",
   "name": "python",
   "nbconvert_exporter": "python",
   "pygments_lexer": "ipython3",
   "version": "3.11.7"
  }
 },
 "nbformat": 4,
 "nbformat_minor": 4
}
